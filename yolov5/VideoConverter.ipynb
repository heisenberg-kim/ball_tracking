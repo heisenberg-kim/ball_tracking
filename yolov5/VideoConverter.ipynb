{
 "cells": [
  {
   "cell_type": "code",
   "execution_count": 9,
   "id": "0a561828",
   "metadata": {},
   "outputs": [],
   "source": [
    "import os\n",
    "import cv2"
   ]
  },
  {
   "cell_type": "code",
   "execution_count": 28,
   "id": "09a9a367",
   "metadata": {},
   "outputs": [],
   "source": [
    "def video_to_image(video_path, img_path):\n",
    "    \n",
    "    img_list = glob(video_path)\n",
    "\n",
    "    # get video capture from video_path\n",
    "    cap = cv2.VideoCapture(video_path)\n",
    "\n",
    "    # define codecs\n",
    "    fourcc = cv2.VideoWriter_fourcc(*'DIVX') # for window DIVX\n",
    "\n",
    "    # frame with & height\n",
    "    width = round(cap.get(cv2.CAP_PROP_FRAME_WIDTH))\n",
    "    height = round(cap.get(cv2.CAP_PROP_FRAME_HEIGHT))\n",
    "\n",
    "    # write video\n",
    "    out = cv2.VideoWriter('test.avi', fourcc, 30.0, (width, height))\n",
    "\n",
    "    count = 0 # 프레임 번호 할당\n",
    "\n",
    "    while cap.isOpened():\n",
    "        ret, frame = cap.read()\n",
    "\n",
    "        if not ret:\n",
    "            break\n",
    "\n",
    "        # % n means how many frames for 1 sec\n",
    "        if(int(cap.get(1)) % 1==0):\n",
    "            cv2.imwrite(img_path + \"/\" + video_path.split('/')[-1] + \"_frame_\" + str(count) + \".jpg\", frame)\n",
    "            count += 1\n",
    "\n",
    "    cap.release()\n",
    "    cv2.destroyAllWindows()"
   ]
  },
  {
   "cell_type": "code",
   "execution_count": 30,
   "id": "f56d9aeb",
   "metadata": {},
   "outputs": [
    {
     "name": "stdout",
     "output_type": "stream",
     "text": [
      "['D_20200220_1_0210_0240.mp4', 'D_20200220_1_0510_0540.mp4', 'D_20200220_1_0420_0450.mp4', 'D_20200220_1_0030_0060.mp4', 'D_20200220_1_0240_0270.mp4', 'D_20200220_1_0150_0180.mp4', 'D_20200220_1_0060_0090.mp4', 'D_20200220_1_0540_0570.mp4', 'D_20200220_1_0390_0420.mp4', 'D_20200220_1_0450_0480.mp4', 'D_20200220_1_0870_0900.mp4', 'D_20200220_1_0120_0150.mp4', 'D_20200220_1_0690_0720.mp4', 'D_20200220_1_0000_0030.mp4', 'D_20200220_1_0600_0630.mp4', 'D_20200220_1_0840_0870.mp4', 'D_20200220_1_0090_0120.mp4', 'D_20200220_1_0720_0750.mp4', 'D_20200220_1_0360_0390.mp4', 'D_20200220_1_0810_0840.mp4', 'D_20200220_1_0330_0360.mp4', 'D_20200220_1_0480_0510.mp4', 'D_20200220_1_0300_0330.mp4', 'D_20200220_1_0270_0300.mp4', 'D_20200220_1_0660_0690.mp4', 'D_20200220_1_0750_0780.mp4', 'D_20200220_1_0630_0660.mp4', 'D_20200220_1_0570_0600.mp4', 'D_20200220_1_0180_0210.mp4', 'D_20200220_1_0780_0810.mp4']\n",
      "/Users/heisenbergk/datasets/soccertrack/top-view/D_20200220_1_0210_0240.mp4\n"
     ]
    },
    {
     "ename": "KeyboardInterrupt",
     "evalue": "",
     "output_type": "error",
     "traceback": [
      "\u001b[0;31m---------------------------------------------------------------------------\u001b[0m",
      "\u001b[0;31mKeyboardInterrupt\u001b[0m                         Traceback (most recent call last)",
      "Cell \u001b[0;32mIn [30], line 14\u001b[0m\n\u001b[1;32m     12\u001b[0m video_path \u001b[38;5;241m=\u001b[39m os\u001b[38;5;241m.\u001b[39mpath\u001b[38;5;241m.\u001b[39mjoin(dir_path, video_name)\n\u001b[1;32m     13\u001b[0m \u001b[38;5;28mprint\u001b[39m(video_path)\n\u001b[0;32m---> 14\u001b[0m \u001b[43mvideo_to_image\u001b[49m\u001b[43m(\u001b[49m\u001b[43mvideo_path\u001b[49m\u001b[43m,\u001b[49m\u001b[43m \u001b[49m\u001b[43mimg_path\u001b[49m\u001b[43m)\u001b[49m\n",
      "Cell \u001b[0;32mIn [28], line 28\u001b[0m, in \u001b[0;36mvideo_to_image\u001b[0;34m(video_path, img_path)\u001b[0m\n\u001b[1;32m     26\u001b[0m \u001b[38;5;66;03m# 일반적으로 1초당 30프레임이 찍혀져 있음. 따라서 %30==0으로 하여 1초에 1프레임 저장\u001b[39;00m\n\u001b[1;32m     27\u001b[0m \u001b[38;5;28;01mif\u001b[39;00m(\u001b[38;5;28mint\u001b[39m(cap\u001b[38;5;241m.\u001b[39mget(\u001b[38;5;241m1\u001b[39m)) \u001b[38;5;241m%\u001b[39m \u001b[38;5;241m1\u001b[39m\u001b[38;5;241m==\u001b[39m\u001b[38;5;241m0\u001b[39m):  \u001b[38;5;66;03m# 1초당 1프레임을 jpg로 저장\u001b[39;00m\n\u001b[0;32m---> 28\u001b[0m     \u001b[43mcv2\u001b[49m\u001b[38;5;241;43m.\u001b[39;49m\u001b[43mimwrite\u001b[49m\u001b[43m(\u001b[49m\u001b[43mimg_path\u001b[49m\u001b[43m \u001b[49m\u001b[38;5;241;43m+\u001b[39;49m\u001b[43m \u001b[49m\u001b[38;5;124;43m\"\u001b[39;49m\u001b[38;5;124;43m/\u001b[39;49m\u001b[38;5;124;43m\"\u001b[39;49m\u001b[43m \u001b[49m\u001b[38;5;241;43m+\u001b[39;49m\u001b[43m \u001b[49m\u001b[43mvideo_path\u001b[49m\u001b[38;5;241;43m.\u001b[39;49m\u001b[43msplit\u001b[49m\u001b[43m(\u001b[49m\u001b[38;5;124;43m'\u001b[39;49m\u001b[38;5;124;43m/\u001b[39;49m\u001b[38;5;124;43m'\u001b[39;49m\u001b[43m)\u001b[49m\u001b[43m[\u001b[49m\u001b[38;5;241;43m-\u001b[39;49m\u001b[38;5;241;43m1\u001b[39;49m\u001b[43m]\u001b[49m\u001b[43m \u001b[49m\u001b[38;5;241;43m+\u001b[39;49m\u001b[43m \u001b[49m\u001b[38;5;124;43m\"\u001b[39;49m\u001b[38;5;124;43m_frame_\u001b[39;49m\u001b[38;5;124;43m\"\u001b[39;49m\u001b[43m \u001b[49m\u001b[38;5;241;43m+\u001b[39;49m\u001b[43m \u001b[49m\u001b[38;5;28;43mstr\u001b[39;49m\u001b[43m(\u001b[49m\u001b[43mcount\u001b[49m\u001b[43m)\u001b[49m\u001b[43m \u001b[49m\u001b[38;5;241;43m+\u001b[39;49m\u001b[43m \u001b[49m\u001b[38;5;124;43m\"\u001b[39;49m\u001b[38;5;124;43m.jpg\u001b[39;49m\u001b[38;5;124;43m\"\u001b[39;49m\u001b[43m,\u001b[49m\u001b[43m \u001b[49m\u001b[43mframe\u001b[49m\u001b[43m)\u001b[49m\n\u001b[1;32m     29\u001b[0m     count \u001b[38;5;241m+\u001b[39m\u001b[38;5;241m=\u001b[39m \u001b[38;5;241m1\u001b[39m\n\u001b[1;32m     31\u001b[0m \u001b[38;5;66;03m#frame = cv2.resize(frame, dsize=(0, 0), fx=0.5, fy=0.5, interpolation=cv2.INTER_AREA)\u001b[39;00m\n\u001b[1;32m     32\u001b[0m \u001b[38;5;66;03m#cv2.imshow('video', frame) # 영상 출력\u001b[39;00m\n",
      "\u001b[0;31mKeyboardInterrupt\u001b[0m: "
     ]
    }
   ],
   "source": [
    "#list .mp4 -> same file name + frame#.jpg save!\n",
    "\n",
    "#get video list from directory\n",
    "dir_path = \"/Users/heisenbergk/datasets/soccertrack/top-view\"\n",
    "img_path = \"/Users/heisenbergk/datasets/soccertrack/test\"\n",
    "list_dir = os.listdir(dir_path)\n",
    "list_video = [video for video in list_dir if video.endswith(\".mp4\")]\n",
    "\n",
    "print(list_video)\n",
    "\n",
    "for video_name in list_video:\n",
    "    video_path = os.path.join(dir_path, video_name)\n",
    "    print(video_path)\n",
    "    video_to_image(video_path, img_path)\n"
   ]
  },
  {
   "cell_type": "code",
   "execution_count": null,
   "id": "285c8513",
   "metadata": {},
   "outputs": [],
   "source": []
  }
 ],
 "metadata": {
  "kernelspec": {
   "display_name": "Python 3 (ipykernel)",
   "language": "python",
   "name": "python3"
  },
  "language_info": {
   "codemirror_mode": {
    "name": "ipython",
    "version": 3
   },
   "file_extension": ".py",
   "mimetype": "text/x-python",
   "name": "python",
   "nbconvert_exporter": "python",
   "pygments_lexer": "ipython3",
   "version": "3.9.13"
  }
 },
 "nbformat": 4,
 "nbformat_minor": 5
}
