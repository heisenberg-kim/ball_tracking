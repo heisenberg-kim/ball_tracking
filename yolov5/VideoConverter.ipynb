{
 "cells": [
  {
   "cell_type": "code",
   "execution_count": 4,
   "id": "89c86fc0",
   "metadata": {},
   "outputs": [],
   "source": [
    "import cv2\n",
    "from glob import glob\n",
    "\n",
    "img_list = glob(\"/Users/heisenbergk/Downloads/archive/top-view/D_20200220_1_0000_0030.mp4\")\n",
    "\n",
    "## 동영상 1초당 2프레임으로 저장\n",
    "cap = cv2.VideoCapture(\"/Users/heisenbergk/Downloads/archive/top-view/D_20200220_1_0000_0030.mp4\")\n",
    "\n",
    "# 코덱 정의\n",
    "fourcc = cv2.VideoWriter_fourcc(*'DIVX') # window의 경우 DIVX\n",
    "\n",
    "# 프레임 크기, FPS\n",
    "width = round(cap.get(cv2.CAP_PROP_FRAME_WIDTH))\n",
    "height = round(cap.get(cv2.CAP_PROP_FRAME_HEIGHT))\n",
    "\n",
    "# 파일명, 코덱, 1초당 프레임수, 너비와 넓이 - 동영상 저장\n",
    "out = cv2.VideoWriter('test.avi', fourcc, 30.0, (width, height))\n",
    "\n",
    "count = 0 # 프레임 번호 할당\n",
    "\n",
    "while cap.isOpened():\n",
    "    ret, frame = cap.read()\n",
    "    \n",
    "    if not ret:\n",
    "        break\n",
    "    \n",
    "    # 일반적으로 1초당 30프레임이 찍혀져 있음. 따라서 %30==0으로 하여 1초에 1프레임 저장\n",
    "    if(int(cap.get(1)) % 1==0):  # 1초당 1프레임을 jpg로 저장\n",
    "        cv2.imwrite('/Users/heisenbergk/datasets/soccertrack/test/frame%d.jpg' % count, frame)\n",
    "        count += 1\n",
    "    \n",
    "    #frame = cv2.resize(frame, dsize=(0, 0), fx=0.5, fy=0.5, interpolation=cv2.INTER_AREA)\n",
    "    #cv2.imshow('video', frame) # 영상 출력\n",
    "        \n",
    "cap.release()\n",
    "cv2.destroyAllWindows()"
   ]
  }
 ],
 "metadata": {
  "kernelspec": {
   "display_name": "Python 3 (ipykernel)",
   "language": "python",
   "name": "python3"
  },
  "language_info": {
   "codemirror_mode": {
    "name": "ipython",
    "version": 3
   },
   "file_extension": ".py",
   "mimetype": "text/x-python",
   "name": "python",
   "nbconvert_exporter": "python",
   "pygments_lexer": "ipython3",
   "version": "3.9.13"
  }
 },
 "nbformat": 4,
 "nbformat_minor": 5
}
