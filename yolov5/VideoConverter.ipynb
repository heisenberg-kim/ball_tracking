{
 "cells": [
  {
   "cell_type": "code",
   "execution_count": 1,
   "id": "0a561828",
   "metadata": {},
   "outputs": [],
   "source": [
    "import os\n",
    "import cv2\n",
    "import glob"
   ]
  },
  {
   "cell_type": "code",
   "execution_count": 2,
   "id": "09a9a367",
   "metadata": {},
   "outputs": [],
   "source": [
    "def video_to_image(video_path, img_path):\n",
    "    \n",
    "    img_list = glob.glob(video_path)\n",
    "\n",
    "    # get video capture from video_path\n",
    "    cap = cv2.VideoCapture(video_path)\n",
    "\n",
    "    # define codecs\n",
    "    fourcc = cv2.VideoWriter_fourcc(*'DIVX') # for window DIVX\n",
    "\n",
    "    # frame with & height\n",
    "    width = round(cap.get(cv2.CAP_PROP_FRAME_WIDTH))\n",
    "    height = round(cap.get(cv2.CAP_PROP_FRAME_HEIGHT))\n",
    "\n",
    "    # write video\n",
    "    out = cv2.VideoWriter('test.avi', fourcc, 30.0, (width, height))\n",
    "\n",
    "    count = 0 # 프레임 번호 할당\n",
    "\n",
    "    while cap.isOpened():\n",
    "        ret, frame = cap.read()\n",
    "\n",
    "        if not ret:\n",
    "            break\n",
    "\n",
    "        # % n means how many frames for 1 sec\n",
    "        if(int(cap.get(1)) % 1==0):\n",
    "            cv2.imwrite(img_path + \"/\" + video_path.split('/')[-1] + \"_frame_\" + str(count) + \".jpg\", frame)\n",
    "            count += 1\n",
    "\n",
    "    cap.release()\n",
    "    cv2.destroyAllWindows()"
   ]
  },
  {
   "cell_type": "code",
   "execution_count": 3,
   "id": "f56d9aeb",
   "metadata": {},
   "outputs": [
    {
     "name": "stdout",
     "output_type": "stream",
     "text": [
      "['D_20200220_1_0210_0240.mp4', 'D_20200220_1_0510_0540.mp4', 'D_20200220_1_0420_0450.mp4', 'D_20200220_1_0030_0060.mp4', 'D_20200220_1_0240_0270.mp4', 'D_20200220_1_0150_0180.mp4', 'D_20200220_1_0060_0090.mp4', 'D_20200220_1_0540_0570.mp4', 'D_20200220_1_0390_0420.mp4', 'D_20200220_1_0450_0480.mp4', 'D_20200220_1_0870_0900.mp4', 'D_20200220_1_0120_0150.mp4', 'D_20200220_1_0690_0720.mp4', 'D_20200220_1_0000_0030.mp4', 'D_20200220_1_0600_0630.mp4', 'D_20200220_1_0840_0870.mp4', 'D_20200220_1_0090_0120.mp4', 'D_20200220_1_0720_0750.mp4', 'D_20200220_1_0360_0390.mp4', 'D_20200220_1_0810_0840.mp4', 'D_20200220_1_0330_0360.mp4', 'D_20200220_1_0480_0510.mp4', 'D_20200220_1_0300_0330.mp4', 'D_20200220_1_0270_0300.mp4', 'D_20200220_1_0660_0690.mp4', 'D_20200220_1_0750_0780.mp4', 'D_20200220_1_0630_0660.mp4', 'D_20200220_1_0570_0600.mp4', 'D_20200220_1_0180_0210.mp4', 'D_20200220_1_0780_0810.mp4']\n",
      "/Users/heisenbergk/datasets/soccertrack/top-view/D_20200220_1_0210_0240.mp4\n",
      "/Users/heisenbergk/datasets/soccertrack/top-view/D_20200220_1_0510_0540.mp4\n",
      "/Users/heisenbergk/datasets/soccertrack/top-view/D_20200220_1_0420_0450.mp4\n",
      "/Users/heisenbergk/datasets/soccertrack/top-view/D_20200220_1_0030_0060.mp4\n",
      "/Users/heisenbergk/datasets/soccertrack/top-view/D_20200220_1_0240_0270.mp4\n",
      "/Users/heisenbergk/datasets/soccertrack/top-view/D_20200220_1_0150_0180.mp4\n",
      "/Users/heisenbergk/datasets/soccertrack/top-view/D_20200220_1_0060_0090.mp4\n",
      "/Users/heisenbergk/datasets/soccertrack/top-view/D_20200220_1_0540_0570.mp4\n",
      "/Users/heisenbergk/datasets/soccertrack/top-view/D_20200220_1_0390_0420.mp4\n",
      "/Users/heisenbergk/datasets/soccertrack/top-view/D_20200220_1_0450_0480.mp4\n",
      "/Users/heisenbergk/datasets/soccertrack/top-view/D_20200220_1_0870_0900.mp4\n",
      "/Users/heisenbergk/datasets/soccertrack/top-view/D_20200220_1_0120_0150.mp4\n",
      "/Users/heisenbergk/datasets/soccertrack/top-view/D_20200220_1_0690_0720.mp4\n",
      "/Users/heisenbergk/datasets/soccertrack/top-view/D_20200220_1_0000_0030.mp4\n",
      "/Users/heisenbergk/datasets/soccertrack/top-view/D_20200220_1_0600_0630.mp4\n",
      "/Users/heisenbergk/datasets/soccertrack/top-view/D_20200220_1_0840_0870.mp4\n",
      "/Users/heisenbergk/datasets/soccertrack/top-view/D_20200220_1_0090_0120.mp4\n",
      "/Users/heisenbergk/datasets/soccertrack/top-view/D_20200220_1_0720_0750.mp4\n",
      "/Users/heisenbergk/datasets/soccertrack/top-view/D_20200220_1_0360_0390.mp4\n",
      "/Users/heisenbergk/datasets/soccertrack/top-view/D_20200220_1_0810_0840.mp4\n",
      "/Users/heisenbergk/datasets/soccertrack/top-view/D_20200220_1_0330_0360.mp4\n",
      "/Users/heisenbergk/datasets/soccertrack/top-view/D_20200220_1_0480_0510.mp4\n",
      "/Users/heisenbergk/datasets/soccertrack/top-view/D_20200220_1_0300_0330.mp4\n",
      "/Users/heisenbergk/datasets/soccertrack/top-view/D_20200220_1_0270_0300.mp4\n",
      "/Users/heisenbergk/datasets/soccertrack/top-view/D_20200220_1_0660_0690.mp4\n",
      "/Users/heisenbergk/datasets/soccertrack/top-view/D_20200220_1_0750_0780.mp4\n",
      "/Users/heisenbergk/datasets/soccertrack/top-view/D_20200220_1_0630_0660.mp4\n",
      "/Users/heisenbergk/datasets/soccertrack/top-view/D_20200220_1_0570_0600.mp4\n",
      "/Users/heisenbergk/datasets/soccertrack/top-view/D_20200220_1_0180_0210.mp4\n",
      "/Users/heisenbergk/datasets/soccertrack/top-view/D_20200220_1_0780_0810.mp4\n"
     ]
    }
   ],
   "source": [
    "#list .mp4 -> same file name + frame#.jpg save!\n",
    "\n",
    "#get video list from directory\n",
    "dir_path = \"/Users/heisenbergk/datasets/soccertrack/top-view\"\n",
    "img_path = \"/Users/heisenbergk/datasets/soccertrack/test\"\n",
    "list_dir = os.listdir(dir_path)\n",
    "list_video = [video for video in list_dir if video.endswith(\".mp4\")]\n",
    "\n",
    "print(list_video)\n",
    "\n",
    "for video_name in list_video:\n",
    "    video_path = os.path.join(dir_path, video_name)\n",
    "    print(video_path)\n",
    "    video_to_image(video_path, img_path)\n"
   ]
  },
  {
   "cell_type": "code",
   "execution_count": null,
   "id": "285c8513",
   "metadata": {},
   "outputs": [],
   "source": []
  }
 ],
 "metadata": {
  "kernelspec": {
   "display_name": "Python 3 (ipykernel)",
   "language": "python",
   "name": "python3"
  },
  "language_info": {
   "codemirror_mode": {
    "name": "ipython",
    "version": 3
   },
   "file_extension": ".py",
   "mimetype": "text/x-python",
   "name": "python",
   "nbconvert_exporter": "python",
   "pygments_lexer": "ipython3",
   "version": "3.9.13"
  }
 },
 "nbformat": 4,
 "nbformat_minor": 5
}
